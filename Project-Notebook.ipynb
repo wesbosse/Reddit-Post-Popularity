{
 "cells": [
  {
   "cell_type": "code",
   "execution_count": 6,
   "metadata": {},
   "outputs": [],
   "source": [
    "import pandas as pd\n",
    "import numpy as np\n",
    "import requests\n",
    "import json\n",
    "import matplotlib.pyplot as plt\n",
    "import seaborn as sns\n",
    "import time"
   ]
  },
  {
   "cell_type": "code",
   "execution_count": 35,
   "metadata": {},
   "outputs": [],
   "source": [
    "from sklearn.linear_model import LogisticRegression\n",
    "from sklearn.model_selection import train_test_split, cross_val_score"
   ]
  },
  {
   "cell_type": "markdown",
   "metadata": {},
   "source": [
    "# // Getting the data"
   ]
  },
  {
   "cell_type": "code",
   "execution_count": 7,
   "metadata": {},
   "outputs": [],
   "source": [
    "def get_posts( sub = 'all', num_pages = 4, avoid_distinguished = True, attached = None):\n",
    "    \"\"\"\n",
    "    Returns a list of pages from a subreddit. \n",
    "    \n",
    "    ===========================\n",
    "    ======= Parameters ========\n",
    "    ===========================\n",
    "\n",
    "    sub = 'all' (default): type = string\n",
    "        The subreddit you want to querry. \n",
    "        https://reddit.com/r/{sub}/ \n",
    "    -------------------------------------------------------------\n",
    "    num_pages = 4 (default): type = int\n",
    "        Number of pages to read from.  \n",
    "        This also is the number of seconds\n",
    "        this function takes to run\n",
    "    -------------------------------------------------------------\n",
    "    avoid_distinguished = True (default): type = bool\n",
    "        Whether or not to avoid stickied, archived,\n",
    "        and admin posts\n",
    "    -------------------------------------------------------------\n",
    "    attached = None (default): type = List\n",
    "        The list that you are appending new data onto.\n",
    "        Default to make a new list.  \n",
    "        \n",
    "    ===========================\n",
    "    ========  Example =========\n",
    "    ===========================    \n",
    "    \n",
    "    the_posts= get_posts(sub = 'jokes',\n",
    "                            num_pages=1, \n",
    "                            avoid_distinguished=True)\n",
    "                            \n",
    "    the_posts= get_posts(sub = 'nosleep',\n",
    "                            num_pages=1, \n",
    "                            avoid_distinguished=True, \n",
    "                            attached=the_posts )\n",
    "    \n",
    "    >>> Returns a list of ~25 posts from reddit.com/r/jokes and\n",
    "                    ~25 posts from reddit.com/r/nosleep\n",
    "    \n",
    "    \n",
    "    \"\"\"\n",
    "    if attached:\n",
    "        posts = attached\n",
    "    else:\n",
    "        posts = []\n",
    "    counter = 0\n",
    "    after = None\n",
    "    while counter < num_pages:\n",
    "        if after == None:\n",
    "            params = {}\n",
    "        else:\n",
    "            params = {'after': after}\n",
    "        res = requests.get(f'https://reddit.com/r/{sub}/.json', params ,headers={'User-agent': 'Dodge Bot 0.1'})\n",
    "        if(res.status_code!=200):\n",
    "            print('invalid sub')\n",
    "            return None\n",
    "        the_json = res.json()\n",
    "        if avoid_distinguished:\n",
    "            page = [child for child in the_json['data'].get('children') if not child['data']['stickied'] and not child['data']['archived'] and not child['data']['distinguished']]\n",
    "        else:\n",
    "            page = the_json['data'].get('children')\n",
    "        posts.extend(page)\n",
    "        after = the_json['data']['after']\n",
    "        counter += 1\n",
    "        time.sleep(1)\n",
    "    return posts"
   ]
  },
  {
   "cell_type": "code",
   "execution_count": 11,
   "metadata": {},
   "outputs": [],
   "source": [
    "posts = get_posts(sub='dadjokes', num_pages=100)"
   ]
  },
  {
   "cell_type": "code",
   "execution_count": 14,
   "metadata": {},
   "outputs": [],
   "source": [
    "def posts_as_DataFrame(posts, features = ['subreddit', 'author', 'title', 'selftext', 'created_utc', 'num_comments']):\n",
    "    feat_dict = [{feat : post['data'][feat] for feat in features}  for post in posts]\n",
    "    return pd.DataFrame(feat_dict)"
   ]
  },
  {
   "cell_type": "code",
   "execution_count": 16,
   "metadata": {},
   "outputs": [
    {
     "data": {
      "text/html": [
       "<div>\n",
       "<style>\n",
       "    .dataframe thead tr:only-child th {\n",
       "        text-align: right;\n",
       "    }\n",
       "\n",
       "    .dataframe thead th {\n",
       "        text-align: left;\n",
       "    }\n",
       "\n",
       "    .dataframe tbody tr th {\n",
       "        vertical-align: top;\n",
       "    }\n",
       "</style>\n",
       "<table border=\"1\" class=\"dataframe\">\n",
       "  <thead>\n",
       "    <tr style=\"text-align: right;\">\n",
       "      <th></th>\n",
       "      <th>author</th>\n",
       "      <th>created_utc</th>\n",
       "      <th>num_comments</th>\n",
       "      <th>selftext</th>\n",
       "      <th>subreddit</th>\n",
       "      <th>title</th>\n",
       "    </tr>\n",
       "  </thead>\n",
       "  <tbody>\n",
       "    <tr>\n",
       "      <th>0</th>\n",
       "      <td>DaShMa_</td>\n",
       "      <td>1.527558e+09</td>\n",
       "      <td>49</td>\n",
       "      <td>I take something for it.</td>\n",
       "      <td>dadjokes</td>\n",
       "      <td>I have kleptomania, but when when it gets bad...</td>\n",
       "    </tr>\n",
       "    <tr>\n",
       "      <th>1</th>\n",
       "      <td>zSilverFox</td>\n",
       "      <td>1.527618e+09</td>\n",
       "      <td>5</td>\n",
       "      <td>He threw sodium chloride at his wife, that's a...</td>\n",
       "      <td>dadjokes</td>\n",
       "      <td>Did you hear about the chemist who was arrested?</td>\n",
       "    </tr>\n",
       "    <tr>\n",
       "      <th>2</th>\n",
       "      <td>porichoygupto</td>\n",
       "      <td>1.527610e+09</td>\n",
       "      <td>4</td>\n",
       "      <td>She thinks it is grounds for divorce.</td>\n",
       "      <td>dadjokes</td>\n",
       "      <td>My wife is getting sick of me not cleaning the...</td>\n",
       "    </tr>\n",
       "    <tr>\n",
       "      <th>3</th>\n",
       "      <td>Bignate1213</td>\n",
       "      <td>1.527565e+09</td>\n",
       "      <td>10</td>\n",
       "      <td>It makes my day.</td>\n",
       "      <td>dadjokes</td>\n",
       "      <td>I like the way the Earth rotates.</td>\n",
       "    </tr>\n",
       "    <tr>\n",
       "      <th>4</th>\n",
       "      <td>Bignate1213</td>\n",
       "      <td>1.527608e+09</td>\n",
       "      <td>10</td>\n",
       "      <td>They haven't had a gig yet.</td>\n",
       "      <td>dadjokes</td>\n",
       "      <td>Have you heard of the band 1023MB?</td>\n",
       "    </tr>\n",
       "  </tbody>\n",
       "</table>\n",
       "</div>"
      ],
      "text/plain": [
       "          author   created_utc  num_comments  \\\n",
       "0        DaShMa_  1.527558e+09            49   \n",
       "1     zSilverFox  1.527618e+09             5   \n",
       "2  porichoygupto  1.527610e+09             4   \n",
       "3    Bignate1213  1.527565e+09            10   \n",
       "4    Bignate1213  1.527608e+09            10   \n",
       "\n",
       "                                            selftext subreddit  \\\n",
       "0                          I take something for it.   dadjokes   \n",
       "1  He threw sodium chloride at his wife, that's a...  dadjokes   \n",
       "2              She thinks it is grounds for divorce.  dadjokes   \n",
       "3                                   It makes my day.  dadjokes   \n",
       "4                        They haven't had a gig yet.  dadjokes   \n",
       "\n",
       "                                               title  \n",
       "0   I have kleptomania, but when when it gets bad...  \n",
       "1   Did you hear about the chemist who was arrested?  \n",
       "2  My wife is getting sick of me not cleaning the...  \n",
       "3                  I like the way the Earth rotates.  \n",
       "4                 Have you heard of the band 1023MB?  "
      ]
     },
     "execution_count": 16,
     "metadata": {},
     "output_type": "execute_result"
    }
   ],
   "source": [
    "df = posts_as_DataFrame(posts=posts, features=['subreddit', 'author', 'title', 'selftext', 'created_utc', 'num_comments'])\n",
    "df.head()"
   ]
  },
  {
   "cell_type": "markdown",
   "metadata": {},
   "source": [
    "# // Data Processing and NLP"
   ]
  },
  {
   "cell_type": "code",
   "execution_count": 20,
   "metadata": {},
   "outputs": [
    {
     "data": {
      "text/plain": [
       "4.590872698158527"
      ]
     },
     "execution_count": 20,
     "metadata": {},
     "output_type": "execute_result"
    }
   ],
   "source": [
    "df['num_comments'].mean()"
   ]
  },
  {
   "cell_type": "code",
   "execution_count": 31,
   "metadata": {},
   "outputs": [],
   "source": [
    "df['high_comments'] = df['num_comments'].apply(lambda x: 1 if x >= 4 else 0)"
   ]
  },
  {
   "cell_type": "code",
   "execution_count": 39,
   "metadata": {},
   "outputs": [
    {
     "data": {
      "text/plain": [
       "0.7634107285828663"
      ]
     },
     "execution_count": 39,
     "metadata": {},
     "output_type": "execute_result"
    }
   ],
   "source": [
    "1 - df.high_comments.value_counts()[1]/len(df.high_comments)"
   ]
  },
  {
   "cell_type": "code",
   "execution_count": 33,
   "metadata": {},
   "outputs": [
    {
     "data": {
      "text/html": [
       "<div>\n",
       "<style>\n",
       "    .dataframe thead tr:only-child th {\n",
       "        text-align: right;\n",
       "    }\n",
       "\n",
       "    .dataframe thead th {\n",
       "        text-align: left;\n",
       "    }\n",
       "\n",
       "    .dataframe tbody tr th {\n",
       "        vertical-align: top;\n",
       "    }\n",
       "</style>\n",
       "<table border=\"1\" class=\"dataframe\">\n",
       "  <thead>\n",
       "    <tr style=\"text-align: right;\">\n",
       "      <th></th>\n",
       "      <th>author</th>\n",
       "      <th>created_utc</th>\n",
       "      <th>num_comments</th>\n",
       "      <th>selftext</th>\n",
       "      <th>subreddit</th>\n",
       "      <th>title</th>\n",
       "      <th>high_comments</th>\n",
       "    </tr>\n",
       "  </thead>\n",
       "  <tbody>\n",
       "    <tr>\n",
       "      <th>0</th>\n",
       "      <td>DaShMa_</td>\n",
       "      <td>1.527558e+09</td>\n",
       "      <td>49</td>\n",
       "      <td>I take something for it.</td>\n",
       "      <td>dadjokes</td>\n",
       "      <td>I have kleptomania, but when when it gets bad...</td>\n",
       "      <td>1</td>\n",
       "    </tr>\n",
       "    <tr>\n",
       "      <th>1</th>\n",
       "      <td>zSilverFox</td>\n",
       "      <td>1.527618e+09</td>\n",
       "      <td>5</td>\n",
       "      <td>He threw sodium chloride at his wife, that's a...</td>\n",
       "      <td>dadjokes</td>\n",
       "      <td>Did you hear about the chemist who was arrested?</td>\n",
       "      <td>1</td>\n",
       "    </tr>\n",
       "    <tr>\n",
       "      <th>2</th>\n",
       "      <td>porichoygupto</td>\n",
       "      <td>1.527610e+09</td>\n",
       "      <td>4</td>\n",
       "      <td>She thinks it is grounds for divorce.</td>\n",
       "      <td>dadjokes</td>\n",
       "      <td>My wife is getting sick of me not cleaning the...</td>\n",
       "      <td>1</td>\n",
       "    </tr>\n",
       "  </tbody>\n",
       "</table>\n",
       "</div>"
      ],
      "text/plain": [
       "          author   created_utc  num_comments  \\\n",
       "0        DaShMa_  1.527558e+09            49   \n",
       "1     zSilverFox  1.527618e+09             5   \n",
       "2  porichoygupto  1.527610e+09             4   \n",
       "\n",
       "                                            selftext subreddit  \\\n",
       "0                          I take something for it.   dadjokes   \n",
       "1  He threw sodium chloride at his wife, that's a...  dadjokes   \n",
       "2              She thinks it is grounds for divorce.  dadjokes   \n",
       "\n",
       "                                               title  high_comments  \n",
       "0   I have kleptomania, but when when it gets bad...              1  \n",
       "1   Did you hear about the chemist who was arrested?              1  \n",
       "2  My wife is getting sick of me not cleaning the...              1  "
      ]
     },
     "execution_count": 33,
     "metadata": {},
     "output_type": "execute_result"
    }
   ],
   "source": [
    "df.head(3)"
   ]
  },
  {
   "cell_type": "markdown",
   "metadata": {},
   "source": [
    "# // Classification modeling"
   ]
  },
  {
   "cell_type": "code",
   "execution_count": 34,
   "metadata": {},
   "outputs": [],
   "source": [
    "# Trying just based on the time / date created:\n",
    "\n",
    "features = ['created_utc']\n",
    "X = df[features]\n",
    "y = df['high_comments']"
   ]
  },
  {
   "cell_type": "code",
   "execution_count": 36,
   "metadata": {},
   "outputs": [
    {
     "data": {
      "text/plain": [
       "LogisticRegression(C=1.0, class_weight=None, dual=False, fit_intercept=True,\n",
       "          intercept_scaling=1, max_iter=100, multi_class='ovr', n_jobs=1,\n",
       "          penalty='l2', random_state=None, solver='liblinear', tol=0.0001,\n",
       "          verbose=0, warm_start=False)"
      ]
     },
     "execution_count": 36,
     "metadata": {},
     "output_type": "execute_result"
    }
   ],
   "source": [
    "X_train, X_val, y_train, y_val = train_test_split(X, y, random_state = 44)\n",
    "logreg = LogisticRegression()\n",
    "logreg.fit(X_train, y_train)"
   ]
  },
  {
   "cell_type": "code",
   "execution_count": 37,
   "metadata": {},
   "outputs": [
    {
     "data": {
      "text/plain": [
       "array([[-7.79079081e-10]])"
      ]
     },
     "execution_count": 37,
     "metadata": {},
     "output_type": "execute_result"
    }
   ],
   "source": [
    "logreg.coef_"
   ]
  },
  {
   "cell_type": "code",
   "execution_count": 38,
   "metadata": {},
   "outputs": [
    {
     "data": {
      "text/plain": [
       "0.7536"
      ]
     },
     "execution_count": 38,
     "metadata": {},
     "output_type": "execute_result"
    }
   ],
   "source": [
    "logreg.score(X_val, y_val)"
   ]
  },
  {
   "cell_type": "code",
   "execution_count": 40,
   "metadata": {},
   "outputs": [],
   "source": [
    "# So... pretty bad using ONLY the time created as a feature, let's go ahead and try some\n",
    "# basic NLP modeling with CountVectorizer etc."
   ]
  },
  {
   "cell_type": "code",
   "execution_count": 42,
   "metadata": {},
   "outputs": [],
   "source": [
    "from sklearn.feature_extraction.text import CountVectorizer, HashingVectorizer, TfidfVectorizer"
   ]
  },
  {
   "cell_type": "code",
   "execution_count": 59,
   "metadata": {},
   "outputs": [
    {
     "data": {
      "text/html": [
       "<div>\n",
       "<style>\n",
       "    .dataframe thead tr:only-child th {\n",
       "        text-align: right;\n",
       "    }\n",
       "\n",
       "    .dataframe thead th {\n",
       "        text-align: left;\n",
       "    }\n",
       "\n",
       "    .dataframe tbody tr th {\n",
       "        vertical-align: top;\n",
       "    }\n",
       "</style>\n",
       "<table border=\"1\" class=\"dataframe\">\n",
       "  <thead>\n",
       "    <tr style=\"text-align: right;\">\n",
       "      <th></th>\n",
       "      <th>author</th>\n",
       "      <th>created_utc</th>\n",
       "      <th>num_comments</th>\n",
       "      <th>selftext</th>\n",
       "      <th>subreddit</th>\n",
       "      <th>title</th>\n",
       "      <th>high_comments</th>\n",
       "    </tr>\n",
       "  </thead>\n",
       "  <tbody>\n",
       "    <tr>\n",
       "      <th>0</th>\n",
       "      <td>DaShMa_</td>\n",
       "      <td>1.527558e+09</td>\n",
       "      <td>49</td>\n",
       "      <td>I take something for it.</td>\n",
       "      <td>dadjokes</td>\n",
       "      <td>I have kleptomania, but when when it gets bad...</td>\n",
       "      <td>1</td>\n",
       "    </tr>\n",
       "    <tr>\n",
       "      <th>1</th>\n",
       "      <td>zSilverFox</td>\n",
       "      <td>1.527618e+09</td>\n",
       "      <td>5</td>\n",
       "      <td>He threw sodium chloride at his wife, that's a...</td>\n",
       "      <td>dadjokes</td>\n",
       "      <td>Did you hear about the chemist who was arrested?</td>\n",
       "      <td>1</td>\n",
       "    </tr>\n",
       "    <tr>\n",
       "      <th>2</th>\n",
       "      <td>porichoygupto</td>\n",
       "      <td>1.527610e+09</td>\n",
       "      <td>4</td>\n",
       "      <td>She thinks it is grounds for divorce.</td>\n",
       "      <td>dadjokes</td>\n",
       "      <td>My wife is getting sick of me not cleaning the...</td>\n",
       "      <td>1</td>\n",
       "    </tr>\n",
       "  </tbody>\n",
       "</table>\n",
       "</div>"
      ],
      "text/plain": [
       "          author   created_utc  num_comments  \\\n",
       "0        DaShMa_  1.527558e+09            49   \n",
       "1     zSilverFox  1.527618e+09             5   \n",
       "2  porichoygupto  1.527610e+09             4   \n",
       "\n",
       "                                            selftext subreddit  \\\n",
       "0                          I take something for it.   dadjokes   \n",
       "1  He threw sodium chloride at his wife, that's a...  dadjokes   \n",
       "2              She thinks it is grounds for divorce.  dadjokes   \n",
       "\n",
       "                                               title  high_comments  \n",
       "0   I have kleptomania, but when when it gets bad...              1  \n",
       "1   Did you hear about the chemist who was arrested?              1  \n",
       "2  My wife is getting sick of me not cleaning the...              1  "
      ]
     },
     "execution_count": 59,
     "metadata": {},
     "output_type": "execute_result"
    }
   ],
   "source": [
    "df.head(3)"
   ]
  },
  {
   "cell_type": "code",
   "execution_count": 77,
   "metadata": {},
   "outputs": [],
   "source": [
    "# CountVectorizer first\n",
    "lang_features = ['title']\n",
    "X = df[lang_features]\n",
    "y = df['high_comments']"
   ]
  },
  {
   "cell_type": "code",
   "execution_count": 78,
   "metadata": {},
   "outputs": [
    {
     "data": {
      "text/plain": [
       "(2498, 1)"
      ]
     },
     "execution_count": 78,
     "metadata": {},
     "output_type": "execute_result"
    }
   ],
   "source": [
    "X.shape"
   ]
  },
  {
   "cell_type": "code",
   "execution_count": 79,
   "metadata": {},
   "outputs": [
    {
     "data": {
      "text/plain": [
       "(2498,)"
      ]
     },
     "execution_count": 79,
     "metadata": {},
     "output_type": "execute_result"
    }
   ],
   "source": [
    "y.shape"
   ]
  },
  {
   "cell_type": "code",
   "execution_count": 80,
   "metadata": {},
   "outputs": [],
   "source": [
    "X_train, X_test, y_train, y_test = train_test_split(X, y, test_size=0.33, random_state=42)"
   ]
  },
  {
   "cell_type": "code",
   "execution_count": 81,
   "metadata": {},
   "outputs": [],
   "source": [
    "# Vectorize\n",
    "cvec = CountVectorizer(stop_words='english')\n",
    "X_train_counts = cvec.fit_transform(X_train)\n",
    "X_test_counts = cvec.transform(X_test)"
   ]
  },
  {
   "cell_type": "code",
   "execution_count": 82,
   "metadata": {},
   "outputs": [
    {
     "data": {
      "text/plain": [
       "<1x1 sparse matrix of type '<class 'numpy.int64'>'\n",
       "\twith 1 stored elements in Compressed Sparse Row format>"
      ]
     },
     "execution_count": 82,
     "metadata": {},
     "output_type": "execute_result"
    }
   ],
   "source": [
    "X_train_counts"
   ]
  },
  {
   "cell_type": "code",
   "execution_count": 83,
   "metadata": {},
   "outputs": [
    {
     "data": {
      "text/plain": [
       "<1x1 sparse matrix of type '<class 'numpy.int64'>'\n",
       "\twith 1 stored elements in Compressed Sparse Row format>"
      ]
     },
     "execution_count": 83,
     "metadata": {},
     "output_type": "execute_result"
    }
   ],
   "source": [
    "X_test_counts"
   ]
  },
  {
   "cell_type": "code",
   "execution_count": null,
   "metadata": {},
   "outputs": [],
   "source": []
  },
  {
   "cell_type": "code",
   "execution_count": null,
   "metadata": {},
   "outputs": [],
   "source": []
  }
 ],
 "metadata": {
  "kernelspec": {
   "display_name": "Python 3",
   "language": "python",
   "name": "python3"
  },
  "language_info": {
   "codemirror_mode": {
    "name": "ipython",
    "version": 3
   },
   "file_extension": ".py",
   "mimetype": "text/x-python",
   "name": "python",
   "nbconvert_exporter": "python",
   "pygments_lexer": "ipython3",
   "version": "3.6.3"
  }
 },
 "nbformat": 4,
 "nbformat_minor": 2
}
